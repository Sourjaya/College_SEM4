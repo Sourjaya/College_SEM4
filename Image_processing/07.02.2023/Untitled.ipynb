{
 "cells": [
  {
   "cell_type": "code",
   "execution_count": 6,
   "metadata": {},
   "outputs": [],
   "source": [
    "import os\n",
    "path=r\"C:\\Users\\vfd\\Desktop\\538_SourjayaDas\\Image_processing\\IMAGE PROCESSING@SP\\image folder\"\n",
    "path2=r\"C:\\Users\\vfd\\Desktop\\538_SourjayaDas\\Image_processing\\07.02.2023\""
   ]
  },
  {
   "cell_type": "markdown",
   "metadata": {},
   "source": [
    "### 1.Get list of files in the given path"
   ]
  },
  {
   "cell_type": "code",
   "execution_count": 2,
   "metadata": {},
   "outputs": [],
   "source": [
    "def get_file_list(path):\n",
    "    return os.listdir(path)"
   ]
  },
  {
   "cell_type": "markdown",
   "metadata": {},
   "source": [
    "### 2.WAFP to access the image folder and return the count of the total number of file"
   ]
  },
  {
   "cell_type": "code",
   "execution_count": 3,
   "metadata": {},
   "outputs": [
    {
     "name": "stdout",
     "output_type": "stream",
     "text": [
      "22\n"
     ]
    }
   ],
   "source": [
    "def count_file(path):\n",
    "    return len(os.listdir(path))\n",
    "print(count_file(path))"
   ]
  },
  {
   "cell_type": "markdown",
   "metadata": {},
   "source": [
    "### 3.WAFP to count the no of files of each extension type in a folder"
   ]
  },
  {
   "cell_type": "code",
   "execution_count": 4,
   "metadata": {},
   "outputs": [
    {
     "name": "stdout",
     "output_type": "stream",
     "text": [
      "{'png': 5, 'jpg': 9, 'jpeg': 1, 'bmp': 6, 'db': 1}\n"
     ]
    }
   ],
   "source": [
    "def count_group(path):\n",
    "    files=get_file_list(path)\n",
    "    l_count={}\n",
    "    for i in files:\n",
    "        ext=i.split(\".\")[-1]\n",
    "\n",
    "        if ext in l_count:\n",
    "            l_count[ext]+=1\n",
    "        else:\n",
    "            l_count[ext]=1\n",
    "    return l_count\n",
    "\n",
    "print(count_group(path))"
   ]
  },
  {
   "cell_type": "markdown",
   "metadata": {},
   "source": [
    "### 4.Creating a directory"
   ]
  },
  {
   "cell_type": "markdown",
   "metadata": {},
   "source": [
    "`os.mkdir(r\"path_name\")`"
   ]
  },
  {
   "cell_type": "markdown",
   "metadata": {},
   "source": [
    "### 5.Creating Sub-directories\n",
    "```python\n",
    "basePath=r\"path_name\"\n",
    "for i in range(10):\n",
    "   os.mkdir(basePath + \"\\subdir\" + str(i+1))\n",
    "```"
   ]
  },
  {
   "cell_type": "markdown",
   "metadata": {},
   "source": [
    "### 6. Moving image files"
   ]
  },
  {
   "cell_type": "code",
   "execution_count": 5,
   "metadata": {},
   "outputs": [],
   "source": [
    "import shutil"
   ]
  },
  {
   "cell_type": "markdown",
   "metadata": {},
   "source": [
    "```python\n",
    "def moveFiles(src,dest):\n",
    "    for f in os.listdir(src):\n",
    "        shutil.move(os.path.join(src,f),os.path.join(dest,f))\n",
    "```"
   ]
  },
  {
   "cell_type": "code",
   "execution_count": 9,
   "metadata": {},
   "outputs": [],
   "source": [
    "moveFiles(path,path2)"
   ]
  },
  {
   "cell_type": "markdown",
   "metadata": {},
   "source": [
    "### 7.Copying image files\n",
    "```python\n",
    "def copyFiles(src,dest):\n",
    "    for f in os.listdir(src):\n",
    "        shutil.copy(os.path.join(src,f),os.path.join(dest,f))\n",
    "copyFiles(src,dest)\n",
    "```"
   ]
  },
  {
   "cell_type": "markdown",
   "metadata": {},
   "source": [
    "### 8.Rename the files in task1 folder using the following convention: `1_MIR` , `2_MIR` , `1_TIR1` , `2_TIR2` ,etc"
   ]
  },
  {
   "cell_type": "markdown",
   "metadata": {},
   "source": [
    "### 9.Create a directory called *storm_images* , under which you need to create 3 sub directories TIR1,TIR2 and MIR."
   ]
  },
  {
   "cell_type": "markdown",
   "metadata": {},
   "source": [
    "### 10.Transfer the renamed files to the corresponding directories TIR1,TIR2 and MIR."
   ]
  },
  {
   "cell_type": "code",
   "execution_count": 15,
   "metadata": {},
   "outputs": [],
   "source": [
    "task1_path=r\"C:\\Users\\vfd\\Desktop\\538_SourjayaDas\\Image_processing\\07.02.2023\\task1\""
   ]
  },
  {
   "cell_type": "code",
   "execution_count": 25,
   "metadata": {},
   "outputs": [],
   "source": [
    "#8\n",
    "obj={\n",
    "        \"MIR.jpg\":1,\n",
    "        \"TIR1.jpg\":1,\n",
    "        \"TIR2.jpg\":1\n",
    "}\n",
    "def rename_files(task1_path,obj):\n",
    "    \n",
    "    files=get_file_list(task1_path)\n",
    "    for f in files:\n",
    "        check=f.split(\"_\")[-1]\n",
    "        file_name=str(obj[check])+\"_\"+ check\n",
    "        obj[check]+=1\n",
    "        os.rename(os.path.join(task1_path,f),os.path.join(task1_path,file_name))"
   ]
  },
  {
   "cell_type": "code",
   "execution_count": 27,
   "metadata": {},
   "outputs": [],
   "source": [
    "rename_files(task1_path,obj)"
   ]
  },
  {
   "cell_type": "code",
   "execution_count": 53,
   "metadata": {},
   "outputs": [],
   "source": [
    "#9\n",
    "files_list=get_file_list(task1_path)\n",
    "os.mkdir(os.path.join(task1_path,\"storm_images\"))\n",
    "def create_dir_move(task1_path):\n",
    "    for i in obj:\n",
    "        folder=i.split(\".\")[0]\n",
    "        os.mkdir(os.path.join(task1_path,\"storm_images\",folder))"
   ]
  },
  {
   "cell_type": "code",
   "execution_count": 54,
   "metadata": {},
   "outputs": [],
   "source": [
    "create_dir_move(task1_path)"
   ]
  },
  {
   "cell_type": "code",
   "execution_count": 55,
   "metadata": {},
   "outputs": [],
   "source": [
    "#10\n",
    "def move_files(task1_path,files_list):\n",
    "    for f in files_list:\n",
    "        file_name=f.split(\".\")[0]\n",
    "        folder=file_name.split(\"_\")[-1]\n",
    "        src=os.path.join(task1_path,f)\n",
    "        dest=os.path.join(task1_path,\"storm_images\",folder,f)\n",
    "        shutil.move(src,dest)"
   ]
  },
  {
   "cell_type": "code",
   "execution_count": 56,
   "metadata": {},
   "outputs": [],
   "source": [
    "move_files(task1_path,files_list)"
   ]
  },
  {
   "cell_type": "markdown",
   "metadata": {},
   "source": [
    "### 11.skimage"
   ]
  },
  {
   "cell_type": "code",
   "execution_count": 41,
   "metadata": {},
   "outputs": [],
   "source": [
    "from skimage import io"
   ]
  },
  {
   "cell_type": "code",
   "execution_count": 43,
   "metadata": {},
   "outputs": [],
   "source": [
    "img=io.imread(os.path.join(path,\"cameraman.png\"))"
   ]
  },
  {
   "cell_type": "code",
   "execution_count": 44,
   "metadata": {},
   "outputs": [
    {
     "name": "stdout",
     "output_type": "stream",
     "text": [
      "[[249 251 251 ... 253 251 253]\n",
      " [159 159 161 ... 153 155 155]\n",
      " [157 157 157 ... 153 153 147]\n",
      " ...\n",
      " [122 126 129 ... 131 131 110]\n",
      " [129 129 126 ... 131 129 106]\n",
      " [245 251 253 ... 249 255 245]]\n"
     ]
    }
   ],
   "source": [
    "print(img)"
   ]
  },
  {
   "cell_type": "code",
   "execution_count": 45,
   "metadata": {},
   "outputs": [
    {
     "data": {
      "text/plain": [
       "array([[249, 251, 251, ..., 253, 251, 253],\n",
       "       [159, 159, 161, ..., 153, 155, 155],\n",
       "       [157, 157, 157, ..., 153, 153, 147],\n",
       "       ...,\n",
       "       [122, 126, 129, ..., 131, 131, 110],\n",
       "       [129, 129, 126, ..., 131, 129, 106],\n",
       "       [245, 251, 253, ..., 249, 255, 245]], dtype=uint8)"
      ]
     },
     "execution_count": 45,
     "metadata": {},
     "output_type": "execute_result"
    }
   ],
   "source": [
    "img"
   ]
  },
  {
   "cell_type": "code",
   "execution_count": 46,
   "metadata": {},
   "outputs": [
    {
     "data": {
      "text/plain": [
       "238630"
      ]
     },
     "execution_count": 46,
     "metadata": {},
     "output_type": "execute_result"
    }
   ],
   "source": [
    "img.size"
   ]
  },
  {
   "cell_type": "code",
   "execution_count": null,
   "metadata": {},
   "outputs": [],
   "source": []
  }
 ],
 "metadata": {
  "kernelspec": {
   "display_name": "Python 3",
   "language": "python",
   "name": "python3"
  },
  "language_info": {
   "codemirror_mode": {
    "name": "ipython",
    "version": 3
   },
   "file_extension": ".py",
   "mimetype": "text/x-python",
   "name": "python",
   "nbconvert_exporter": "python",
   "pygments_lexer": "ipython3",
   "version": "3.7.1"
  }
 },
 "nbformat": 4,
 "nbformat_minor": 2
}
